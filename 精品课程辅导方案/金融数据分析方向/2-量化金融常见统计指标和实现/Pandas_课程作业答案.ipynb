{
 "cells": [
  {
   "cell_type": "code",
   "execution_count": null,
   "metadata": {
    "collapsed": true,
    "jupyter": {
     "outputs_hidden": true
    }
   },
   "outputs": [],
   "source": [
    "'''\n",
    "课程作业\n",
    "\n",
    "'''"
   ]
  },
  {
   "cell_type": "code",
   "execution_count": 1,
   "metadata": {
    "collapsed": true,
    "jupyter": {
     "outputs_hidden": true
    }
   },
   "outputs": [],
   "source": [
    "import numpy as np\n",
    "import pandas as pd"
   ]
  },
  {
   "cell_type": "code",
   "execution_count": 3,
   "metadata": {
    "collapsed": false,
    "jupyter": {
     "outputs_hidden": false
    }
   },
   "outputs": [
    {
     "name": "stdout",
     "output_type": "stream",
     "text": [
      "创建Series为：\n",
      " a     2.016528\n",
      "b    49.894802\n",
      "c    42.833627\n",
      "d    87.053552\n",
      "e    22.330545\n",
      "f     2.067542\n",
      "g    91.332145\n",
      "h    47.239991\n",
      "i    32.474135\n",
      "j    82.116626\n",
      "dtype: float64 \n",
      "------\n",
      "标签为b，c的值为:\n",
      " 49.8948015368 42.8336272643 \n",
      "------\n",
      "Series中第4到6个值为:\n",
      " d    87.053552\n",
      "e    22.330545\n",
      "f     2.067542\n",
      "dtype: float64 \n",
      "------\n",
      "Series中大于50的值为:\n",
      " d    87.053552\n",
      "g    91.332145\n",
      "j    82.116626\n",
      "dtype: float64 \n",
      "------\n"
     ]
    }
   ],
   "source": [
    "# 作业1：创建一个Series，包含10个元素，且每个值为0-100的均匀分布随机值，index为a-j，请分别筛选出：\n",
    "# ① 标签为b，c的值为多少\n",
    "# ② Series中第4到6个值是哪些？\n",
    "# ③ Series中大于50的值有哪些？\n",
    "\n",
    "s = pd.Series(np.random.rand(10)*100, index = list('abcdefghij'))\n",
    "print('创建Series为：\\n', s, '\\n------')\n",
    "print('标签为b，c的值为:\\n', s['b'], s['c'],'\\n------')\n",
    "print('Series中第4到6个值为:\\n', s[3:6],'\\n------')\n",
    "print('Series中大于50的值为:\\n', s[s>50],'\\n------')"
   ]
  },
  {
   "cell_type": "code",
   "execution_count": null,
   "metadata": {
    "collapsed": true,
    "jupyter": {
     "outputs_hidden": true
    }
   },
   "outputs": [],
   "source": [
    "'''\n",
    "【数值计算和统计基础】 课程作业\n",
    "\n",
    "'''"
   ]
  },
  {
   "cell_type": "code",
   "execution_count": 20,
   "metadata": {
    "collapsed": false,
    "jupyter": {
     "outputs_hidden": false
    }
   },
   "outputs": [
    {
     "name": "stdout",
     "output_type": "stream",
     "text": [
      "创建Dataframe为：\n",
      "         key1       key2\n",
      "0  78.873189  75.037939\n",
      "1  10.000713  18.867336\n",
      "2  59.528854  56.019724\n",
      "3  55.161116  54.100441\n",
      "4  24.143033  51.671367 \n",
      "------\n",
      "df[\"key1\"]的均值为：\n",
      " 42.044512818040104 \n",
      "------\n",
      "df[\"key1\"]的中位数为：\n",
      " 39.652074812919636 \n",
      "------\n",
      "df[\"key2\"]的均值为：\n",
      " 51.13936160130839 \n",
      "------\n",
      "df[\"key2\"]的中位数为：\n",
      " 54.10044106375154 \n",
      "------\n",
      "df的累积和为：\n",
      "         key1       key2  key1_cumsum  key2_cumsum\n",
      "0  78.873189  75.037939    78.873189    75.037939\n",
      "1  10.000713  18.867336    88.873902    93.905275\n",
      "2        NaN  56.019724          NaN   149.925000\n",
      "3  55.161116  54.100441   144.035018   204.025441\n",
      "4  24.143033  51.671367   168.178051   255.696808 \n",
      "------\n"
     ]
    }
   ],
   "source": [
    "# 作业1：如图创建一个Dataframe（5*2，值为0-100的随机值），并分别计算key1和key2的均值、中位数、累积和\n",
    "\n",
    "df = pd.DataFrame(np.random.rand(5,2)*100,\n",
    "                 columns = ['key1','key2'])\n",
    "print('创建Dataframe为：\\n',df,'\\n------')\n",
    "df['key1'][2] = np.nan\n",
    "df['key1_cumsum'] = df['key1'].cumsum()\n",
    "df['key2_cumsum'] = df['key2'].cumsum()\n",
    "print('df[\"key1\"]的均值为：\\n',df['key1'].mean(),'\\n------')\n",
    "print('df[\"key1\"]的中位数为：\\n',df['key1'].median(),'\\n------')\n",
    "print('df[\"key2\"]的均值为：\\n',df['key2'].mean(),'\\n------')\n",
    "print('df[\"key2\"]的中位数为：\\n',df['key2'].median(),'\\n------')\n",
    "print('df的累积和为：\\n',df,'\\n------')"
   ]
  }
 ],
 "metadata": {
  "anaconda-cloud": {},
  "kernelspec": {
   "display_name": "Python 3 (ipykernel)",
   "language": "python",
   "name": "python3"
  },
  "language_info": {
   "codemirror_mode": {
    "name": "ipython",
    "version": 3
   },
   "file_extension": ".py",
   "mimetype": "text/x-python",
   "name": "python",
   "nbconvert_exporter": "python",
   "pygments_lexer": "ipython3",
   "version": "3.8.8"
  }
 },
 "nbformat": 4,
 "nbformat_minor": 4
}
