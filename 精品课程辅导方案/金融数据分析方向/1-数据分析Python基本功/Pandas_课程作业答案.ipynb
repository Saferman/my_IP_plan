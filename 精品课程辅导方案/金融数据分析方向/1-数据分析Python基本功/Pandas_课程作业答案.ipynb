{
 "cells": [
  {
   "cell_type": "code",
   "execution_count": null,
   "metadata": {
    "collapsed": true,
    "jupyter": {
     "outputs_hidden": true
    }
   },
   "outputs": [],
   "source": [
    "'''\n",
    "Pandas作业\n",
    "\n",
    "'''"
   ]
  },
  {
   "cell_type": "code",
   "execution_count": 6,
   "metadata": {
    "collapsed": false,
    "jupyter": {
     "outputs_hidden": false
    }
   },
   "outputs": [
    {
     "name": "stdout",
     "output_type": "stream",
     "text": [
      "结果Dataframe为：\n",
      "    four  one  three  two\n",
      "a     4    1      3    2\n",
      "b     5    2      4    3\n",
      "c     6    3      5    4\n",
      "d     7    4      6    5\n",
      "e     8    5      7    6\n"
     ]
    }
   ],
   "source": [
    "# 作业1：测试下述四种不同的方法创建的Dataframe是否一样！看看分别怎么实现的，理解\n",
    "\n",
    "df1 = pd.DataFrame({'one':[1,2,3,4,5],\n",
    "                   'two':[2,3,4,5,6],\n",
    "                   'three':[3,4,5,6,7],\n",
    "                   'four':[4,5,6,7,8]},\n",
    "                  index = list('abcde'))\n",
    "df2 = pd.DataFrame({'one':pd.Series([1,2,3,4,5],index = list('abcde')),\n",
    "                   'two':pd.Series([2,3,4,5,6],index = list('abcde')),\n",
    "                   'three':pd.Series([3,4,5,6,7],index = list('abcde')),\n",
    "                   'four':pd.Series([4,5,6,7,8],index = list('abcde'))})\n",
    "df3 = pd.DataFrame(np.arange(20).reshape(5,4), \n",
    "                   index = list('abcde'),\n",
    "                  columns = ['one','two','three','four'])\n",
    "df4 = pd.DataFrame([{'one':1,'two':2,'three':3,'four':4},\n",
    "                   {'one':2,'two':3,'three':4,'four':5},\n",
    "                   {'one':3,'two':4,'three':5,'four':6},\n",
    "                   {'one':4,'two':5,'three':6,'four':7},\n",
    "                   {'one':5,'two':6,'three':7,'four':8}],\n",
    "                  index = list('abcde'))\n",
    "print('结果Dataframe为：\\n',df4)"
   ]
  },
  {
   "cell_type": "code",
   "execution_count": null,
   "metadata": {
    "collapsed": true,
    "jupyter": {
     "outputs_hidden": true
    }
   },
   "outputs": [],
   "source": [
    "'''\n",
    "【课程2.6  Pandas数据结构Dataframe：索引】 课程作业\n",
    "\n",
    "'''"
   ]
  },
  {
   "cell_type": "code",
   "execution_count": 7,
   "metadata": {
    "collapsed": false,
    "jupyter": {
     "outputs_hidden": false
    }
   },
   "outputs": [
    {
     "name": "stdout",
     "output_type": "stream",
     "text": [
      "创建Dataframe为：\n",
      "                a          b          c          d\n",
      "one    60.936882  34.198569  86.933961  63.217850\n",
      "two    93.910622   8.843498  12.482240  35.940462\n",
      "three  11.350391  40.704308  50.524502   5.215897\n",
      "four    5.777448  75.515444  96.847913  57.683561 \n",
      "-------\n",
      "b，c列的所有值为:\n",
      "                b          c\n",
      "one    34.198569  86.933961\n",
      "two     8.843498  12.482240\n",
      "three  40.704308  50.524502\n",
      "four   75.515444  96.847913 \n",
      "------\n",
      "第三第四行的值为:\n",
      "                a          b          c          d\n",
      "three  11.350391  40.704308  50.524502   5.215897\n",
      "four    5.777448  75.515444  96.847913  57.683561 \n",
      "------\n",
      "按顺序索引得到two，one行的值为:\n",
      "              a          b          c          d\n",
      "two  93.910622   8.843498  12.482240  35.940462\n",
      "one  60.936882  34.198569  86.933961  63.217850 \n",
      "------\n",
      "大于50的值为:\n",
      "                a          b          c          d\n",
      "one    60.936882        NaN  86.933961  63.217850\n",
      "two    93.910622        NaN        NaN        NaN\n",
      "three        NaN        NaN  50.524502        NaN\n",
      "four         NaN  75.515444  96.847913  57.683561 \n",
      "------\n"
     ]
    }
   ],
   "source": [
    "# 作业1：如图创建Dataframe(4*4，值为0-100的随机数)，通过索引得到以下值\n",
    "# ① 索引得到b，c列的所有值\n",
    "# ② 索引得到第三第四行的数据\n",
    "# ③ 按顺序索引得到two，one行的值\n",
    "# ④ 索引得到大于50的值\n",
    "\n",
    "df = df1 = pd.DataFrame(np.random.rand(16).reshape(4,4)*100,\n",
    "                   index = ['one','two','three','four'],\n",
    "                   columns = ['a','b','c','d'])\n",
    "print('创建Dataframe为：\\n',df,'\\n-------')\n",
    "print('b，c列的所有值为:\\n', df[['b','c']],'\\n------')\n",
    "print('第三第四行的值为:\\n', df[2:4],'\\n------')\n",
    "print('按顺序索引得到two，one行的值为:\\n', df.loc[['two','one']],'\\n------')\n",
    "print('大于50的值为:\\n', df[df>50],'\\n------')"
   ]
  },
  {
   "cell_type": "code",
   "execution_count": 1,
   "metadata": {
    "collapsed": false,
    "jupyter": {
     "outputs_hidden": false
    }
   },
   "outputs": [],
   "source": [
    "# 作业3：按要求创建Dataframe df1、df2，并合并成df3\n",
    "\n",
    "df1 = pd.DataFrame({'key':['a','b','c'],\n",
    "                   'values1':np.random.rand(3)})\n",
    "df2 = pd.DataFrame({'values2':np.random.rand(3),\n",
    "                   'values3':[5,6,7]},\n",
    "                  index = ['b','c','d'])\n",
    "\n",
    "df3 = pd.merge(df1,df2,on='key',how='outer')\n",
    "print('创建df1为：\\n',df1,'\\n------')\n",
    "print('创建df2为：\\n',df2,'\\n------')\n",
    "print('合并df3为：\\n',df3,'\\n------')"
   ]
  },
  {
   "cell_type": "code",
   "execution_count": 2,
   "metadata": {
    "collapsed": false,
    "jupyter": {
     "outputs_hidden": false
    }
   },
   "outputs": [],
   "source": [
    "# 作业1：按要求创建Dataframe df1、df2，并连接成df3\n",
    "\n",
    "df1 = pd.DataFrame(np.random.rand(4,2),\n",
    "                  index = list('abcd'),\n",
    "                  columns = ['values1','values2'])\n",
    "df2 = pd.DataFrame(np.random.rand(4,2),\n",
    "                  index = list('efgh'),\n",
    "                  columns = ['values1','values2'])\n",
    "\n",
    "df3 = pd.concat([df1,df2])\n",
    "print('创建df1为：\\n',df1,'\\n------')\n",
    "print('创建df2为：\\n',df2,'\\n------')\n",
    "print('连接df3为：\\n',df3,'\\n------')"
   ]
  }
 ],
 "metadata": {
  "anaconda-cloud": {},
  "kernelspec": {
   "display_name": "Python 3 (ipykernel)",
   "language": "python",
   "name": "python3"
  },
  "language_info": {
   "codemirror_mode": {
    "name": "ipython",
    "version": 3
   },
   "file_extension": ".py",
   "mimetype": "text/x-python",
   "name": "python",
   "nbconvert_exporter": "python",
   "pygments_lexer": "ipython3",
   "version": "3.8.8"
  }
 },
 "nbformat": 4,
 "nbformat_minor": 4
}
