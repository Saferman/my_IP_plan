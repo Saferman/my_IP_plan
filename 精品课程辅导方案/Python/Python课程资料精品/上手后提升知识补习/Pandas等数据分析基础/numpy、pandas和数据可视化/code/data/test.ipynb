{
 "cells": [
  {
   "cell_type": "code",
   "execution_count": 1,
   "id": "9b972ddc-6d81-447c-a8eb-40c40fbb7fa0",
   "metadata": {},
   "outputs": [],
   "source": [
    "import pandas as pd\n",
    "import numpy as np"
   ]
  },
  {
   "cell_type": "code",
   "execution_count": 4,
   "id": "00ffc451-56ec-496f-820b-1042f9fbcb62",
   "metadata": {},
   "outputs": [],
   "source": [
    "data =pd.read_csv(\"2023年北京积分落户数据.csv\")"
   ]
  },
  {
   "cell_type": "code",
   "execution_count": 5,
   "id": "5613f605-7764-4438-9755-d153a65032ff",
   "metadata": {},
   "outputs": [
    {
     "data": {
      "text/html": [
       "<div>\n",
       "<style scoped>\n",
       "    .dataframe tbody tr th:only-of-type {\n",
       "        vertical-align: middle;\n",
       "    }\n",
       "\n",
       "    .dataframe tbody tr th {\n",
       "        vertical-align: top;\n",
       "    }\n",
       "\n",
       "    .dataframe thead th {\n",
       "        text-align: right;\n",
       "    }\n",
       "</style>\n",
       "<table border=\"1\" class=\"dataframe\">\n",
       "  <thead>\n",
       "    <tr style=\"text-align: right;\">\n",
       "      <th></th>\n",
       "      <th>公示编号</th>\n",
       "      <th>姓名</th>\n",
       "      <th>出生年月</th>\n",
       "      <th>单位名称</th>\n",
       "      <th>积分分值</th>\n",
       "    </tr>\n",
       "  </thead>\n",
       "  <tbody>\n",
       "    <tr>\n",
       "      <th>0</th>\n",
       "      <td>202300001</td>\n",
       "      <td>张浩</td>\n",
       "      <td>1977-02</td>\n",
       "      <td>北京首钢股份有限公司</td>\n",
       "      <td>140.05</td>\n",
       "    </tr>\n",
       "    <tr>\n",
       "      <th>1</th>\n",
       "      <td>202300002</td>\n",
       "      <td>冯云</td>\n",
       "      <td>1982-02</td>\n",
       "      <td>中国人民解放军空军二十三厂</td>\n",
       "      <td>134.29</td>\n",
       "    </tr>\n",
       "    <tr>\n",
       "      <th>2</th>\n",
       "      <td>202300003</td>\n",
       "      <td>王天东</td>\n",
       "      <td>1975-01</td>\n",
       "      <td>中建二局第三建筑工程有限公司</td>\n",
       "      <td>133.63</td>\n",
       "    </tr>\n",
       "  </tbody>\n",
       "</table>\n",
       "</div>"
      ],
      "text/plain": [
       "        公示编号   姓名     出生年月            单位名称    积分分值\n",
       "0  202300001   张浩  1977-02      北京首钢股份有限公司  140.05\n",
       "1  202300002   冯云  1982-02   中国人民解放军空军二十三厂  134.29\n",
       "2  202300003  王天东  1975-01  中建二局第三建筑工程有限公司  133.63"
      ]
     },
     "execution_count": 5,
     "metadata": {},
     "output_type": "execute_result"
    }
   ],
   "source": [
    "data[:3]"
   ]
  },
  {
   "cell_type": "code",
   "execution_count": 7,
   "id": "65025cc3-0d9a-49fc-89c3-79694ea362a6",
   "metadata": {},
   "outputs": [
    {
     "data": {
      "text/plain": [
       "单位名称\n",
       "北京华为数字技术有限公司        66\n",
       "百度在线网络技术（北京）有限公司    34\n",
       "中国人民解放军空军二十三厂       34\n",
       "中建二局第三建筑工程有限公司      31\n",
       "中央广播电视总台            28\n",
       "                    ..\n",
       "北京果麦文化传媒有限公司         1\n",
       "博尔诚（北京）科技有限公司        1\n",
       "北京至美美容有限公司           1\n",
       "北京力拓寰球建筑工程有限公司       1\n",
       "大爱城投资控股有限公司          1\n",
       "Name: count, Length: 4583, dtype: int64"
      ]
     },
     "execution_count": 7,
     "metadata": {},
     "output_type": "execute_result"
    }
   ],
   "source": [
    "data[\"单位名称\"].value_counts()"
   ]
  }
 ],
 "metadata": {
  "kernelspec": {
   "display_name": "Python 3 (ipykernel)",
   "language": "python",
   "name": "python3"
  },
  "language_info": {
   "codemirror_mode": {
    "name": "ipython",
    "version": 3
   },
   "file_extension": ".py",
   "mimetype": "text/x-python",
   "name": "python",
   "nbconvert_exporter": "python",
   "pygments_lexer": "ipython3",
   "version": "3.8.8"
  }
 },
 "nbformat": 4,
 "nbformat_minor": 5
}
