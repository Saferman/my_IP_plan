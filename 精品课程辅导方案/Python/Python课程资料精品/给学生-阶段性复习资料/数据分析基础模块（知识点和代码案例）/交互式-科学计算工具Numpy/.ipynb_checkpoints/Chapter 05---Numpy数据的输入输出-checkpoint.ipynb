{
 "cells": [
  {
   "cell_type": "markdown",
   "metadata": {},
   "source": [
    "# 课程1.5---Numpy数据的输入与输出\n",
    "## Numpy读取/写入数组数据，文本数据"
   ]
  },
  {
   "cell_type": "code",
   "execution_count": 1,
   "metadata": {},
   "outputs": [
    {
     "name": "stdout",
     "output_type": "stream",
     "text": [
      "[[0.13389287 0.964937   0.21994744 0.02316549 0.91121663]\n",
      " [0.60693404 0.46538374 0.68338372 0.3042743  0.94794604]\n",
      " [0.57445204 0.96189776 0.04712687 0.14613759 0.01298376]\n",
      " [0.97465597 0.25768499 0.95910334 0.66669867 0.22205536]\n",
      " [0.84205466 0.64499971 0.78520505 0.87420594 0.7727194 ]]\n"
     ]
    }
   ],
   "source": [
    "# 存储数组数据 .npy文件\n",
    "\n",
    "import numpy as np\n",
    "import os\n",
    "os.chdir(r\"D:\\Python练习\")\n",
    "\n",
    "ar = np.random.rand(5,5)\n",
    "print(ar)\n",
    "np.save(\"arraydata.npy\",ar)\n",
    "# 也可以直接 np.save(r\"D:\\Python练习\\arraydata.npy\", ar)"
   ]
  },
  {
   "cell_type": "code",
   "execution_count": 2,
   "metadata": {},
   "outputs": [
    {
     "name": "stdout",
     "output_type": "stream",
     "text": [
      "[[0.13389287 0.964937   0.21994744 0.02316549 0.91121663]\n",
      " [0.60693404 0.46538374 0.68338372 0.3042743  0.94794604]\n",
      " [0.57445204 0.96189776 0.04712687 0.14613759 0.01298376]\n",
      " [0.97465597 0.25768499 0.95910334 0.66669867 0.22205536]\n",
      " [0.84205466 0.64499971 0.78520505 0.87420594 0.7727194 ]]\n"
     ]
    }
   ],
   "source": [
    "# 读取数组文件 .npy文件\n",
    "\n",
    "ar_load = np.load(\"arraydata.npy\")\n",
    "print(ar_load)\n",
    "# 也可以直接np.load(r\"# 存储数组数据 .npy文件）\n"
   ]
  },
  {
   "cell_type": "code",
   "execution_count": 3,
   "metadata": {},
   "outputs": [
    {
     "name": "stdout",
     "output_type": "stream",
     "text": [
      "[[0.84976815 0.05472687 0.46660554 0.50229243 0.07287162]\n",
      " [0.54284133 0.03102612 0.42999545 0.55241157 0.81341422]\n",
      " [0.00574233 0.0480327  0.29999644 0.07674653 0.28178927]\n",
      " [0.60563717 0.87023471 0.44676801 0.50214281 0.6035047 ]\n",
      " [0.26137627 0.69369219 0.12449053 0.11795134 0.71186916]]\n"
     ]
    }
   ],
   "source": [
    "# 存储/读取文本文件\n",
    "\n",
    "ar = np.random.rand(5,5)\n",
    "np.savetxt(\"array.txt\",ar,delimiter = ',')\n",
    "# np.savetxt(fname, X, fmt='%.18e', delimiter=' ', newline='\\n', header='', footer='', comments='# ')：存储为文本txt文件\n",
    "\n",
    "ar_loadtxt = np.loadtxt('array.txt', delimiter=',')\n",
    "print(ar_loadtxt)\n",
    "# 也可以直接 np.loadtxt(r\"D:\\Python练习\\arraydata.txt\")"
   ]
  },
  {
   "cell_type": "code",
   "execution_count": 3,
   "metadata": {},
   "outputs": [],
   "source": [
    "import pickle\n",
    "\n",
    "保存一切对象（变量、对象、模型、数据）\n",
    "\n",
    "a = [1,3,4]\n",
    "b = np.arange(16)\n",
    "c = \"1234\"\n",
    "model\n",
    "\n",
    "with open(\"pk.tmp\",\"wb\") as f:\n",
    "    pickle.dump([a,b,c,model],f)\n",
    "\n",
    "with open(\"pk.tmp\",\"rb\") as f:\n",
    "    a,b,c,model = pickle.load(f)"
   ]
  },
  {
   "cell_type": "code",
   "execution_count": 6,
   "metadata": {},
   "outputs": [
    {
     "data": {
      "text/plain": [
       "\u001b[1;31mSignature:\u001b[0m\n",
       "\u001b[0mpickle\u001b[0m\u001b[1;33m.\u001b[0m\u001b[0mdump\u001b[0m\u001b[1;33m(\u001b[0m\u001b[1;33m\n",
       "\u001b[0m    \u001b[0mobj\u001b[0m\u001b[1;33m,\u001b[0m\u001b[1;33m\n",
       "\u001b[0m    \u001b[0mfile\u001b[0m\u001b[1;33m,\u001b[0m\u001b[1;33m\n",
       "\u001b[0m    \u001b[0mprotocol\u001b[0m\u001b[1;33m=\u001b[0m\u001b[1;32mNone\u001b[0m\u001b[1;33m,\u001b[0m\u001b[1;33m\n",
       "\u001b[0m    \u001b[1;33m*\u001b[0m\u001b[1;33m,\u001b[0m\u001b[1;33m\n",
       "\u001b[0m    \u001b[0mfix_imports\u001b[0m\u001b[1;33m=\u001b[0m\u001b[1;32mTrue\u001b[0m\u001b[1;33m,\u001b[0m\u001b[1;33m\n",
       "\u001b[0m    \u001b[0mbuffer_callback\u001b[0m\u001b[1;33m=\u001b[0m\u001b[1;32mNone\u001b[0m\u001b[1;33m,\u001b[0m\u001b[1;33m\n",
       "\u001b[0m\u001b[1;33m)\u001b[0m\u001b[1;33m\u001b[0m\u001b[1;33m\u001b[0m\u001b[0m\n",
       "\u001b[1;31mDocstring:\u001b[0m\n",
       "Write a pickled representation of obj to the open file object file.\n",
       "\n",
       "This is equivalent to ``Pickler(file, protocol).dump(obj)``, but may\n",
       "be more efficient.\n",
       "\n",
       "The optional *protocol* argument tells the pickler to use the given\n",
       "protocol; supported protocols are 0, 1, 2, 3, 4 and 5.  The default\n",
       "protocol is 4. It was introduced in Python 3.4, and is incompatible\n",
       "with previous versions.\n",
       "\n",
       "Specifying a negative protocol version selects the highest protocol\n",
       "version supported.  The higher the protocol used, the more recent the\n",
       "version of Python needed to read the pickle produced.\n",
       "\n",
       "The *file* argument must have a write() method that accepts a single\n",
       "bytes argument.  It can thus be a file object opened for binary\n",
       "writing, an io.BytesIO instance, or any other custom object that meets\n",
       "this interface.\n",
       "\n",
       "If *fix_imports* is True and protocol is less than 3, pickle will try\n",
       "to map the new Python 3 names to the old module names used in Python\n",
       "2, so that the pickle data stream is readable with Python 2.\n",
       "\n",
       "If *buffer_callback* is None (the default), buffer views are serialized\n",
       "into *file* as part of the pickle stream.  It is an error if\n",
       "*buffer_callback* is not None and *protocol* is None or smaller than 5.\n",
       "\u001b[1;31mType:\u001b[0m      builtin_function_or_method"
      ]
     },
     "metadata": {},
     "output_type": "display_data"
    }
   ],
   "source": [
    "??pickle.dump"
   ]
  }
 ],
 "metadata": {
  "kernelspec": {
   "display_name": "Python 3 (ipykernel)",
   "language": "python",
   "name": "python3"
  },
  "language_info": {
   "codemirror_mode": {
    "name": "ipython",
    "version": 3
   },
   "file_extension": ".py",
   "mimetype": "text/x-python",
   "name": "python",
   "nbconvert_exporter": "python",
   "pygments_lexer": "ipython3",
   "version": "3.8.8"
  }
 },
 "nbformat": 4,
 "nbformat_minor": 4
}
