{
 "cells": [
  {
   "cell_type": "code",
   "execution_count": 8,
   "id": "1ea2aa77-2302-4905-91c3-57db17e9b8ec",
   "metadata": {},
   "outputs": [
    {
     "name": "stdout",
     "output_type": "stream",
     "text": [
      "hello\n"
     ]
    }
   ],
   "source": [
    "try:\n",
    "    f = open(\"2233.txt\",\"r\")\n",
    "    s = \"abc\"\n",
    "    s[1] = \"e\"\n",
    "except FileNotFoundError:\n",
    "    f = open(\"t.py\",\"r\")\n",
    "except TypeError:\n",
    "    s.repalce(\"b\",\"e\")\n",
    "print(\"hello\")"
   ]
  },
  {
   "cell_type": "code",
   "execution_count": 2,
   "id": "f10f8f5e-4a52-4fd8-9189-3789a5196057",
   "metadata": {},
   "outputs": [
    {
     "name": "stdout",
     "output_type": "stream",
     "text": [
      "error\n"
     ]
    }
   ],
   "source": [
    "a = 3\n",
    "try:\n",
    "    a  = a// 0\n",
    "except :\n",
    "    print(\"error\")\n",
    "else:\n",
    "    pass\n",
    "finally:\n",
    "    pass"
   ]
  },
  {
   "cell_type": "markdown",
   "id": "2f1bf5f4-5255-4a0c-9fe9-166959c4bd0f",
   "metadata": {},
   "source": [
    "### 捕捉不同的错误类型，尝试在下面输入框输入：-1，1，2，q"
   ]
  },
  {
   "cell_type": "code",
   "execution_count": 10,
   "id": "368b8a5c-f1ab-4f0f-beec-654ecedd2611",
   "metadata": {},
   "outputs": [
    {
     "name": "stdin",
     "output_type": "stream",
     "text": [
      "> 2\n"
     ]
    },
    {
     "name": "stdout",
     "output_type": "stream",
     "text": [
      "1/log10(2.0) = 3.321928094887362\n"
     ]
    }
   ],
   "source": [
    "import math\n",
    "\n",
    "text = input('>')\n",
    "x = float(text)\n",
    "y = 1 / math.log10(x)\n",
    "print(\"1/log10({0}) = {1}\".format(x, y))"
   ]
  },
  {
   "cell_type": "code",
   "execution_count": 13,
   "id": "bbd7ca36-b342-4274-a4cc-42c21ce7b118",
   "metadata": {},
   "outputs": [
    {
     "name": "stdout",
     "output_type": "stream",
     "text": [
      "the value must not be 1\n"
     ]
    }
   ],
   "source": [
    "try:\n",
    "    text = '2'\n",
    "    x = float(text)\n",
    "    y = 1 / math.log10(x)\n",
    "    print(\"1/log10({0}) = {1}\".format(x, y))\n",
    "except ValueError:\n",
    "    print(\"value must bigger than 0\")\n",
    "except ZeroDivisionError:\n",
    "    print(\"the value must not be 1\")\n",
    "else:\n",
    "    print(\"all correct\")"
   ]
  },
  {
   "cell_type": "markdown",
   "id": "c34ea0b5-2ca0-472e-8d2d-2e071ce4224c",
   "metadata": {},
   "source": [
    "### 类的继承"
   ]
  },
  {
   "cell_type": "code",
   "execution_count": null,
   "id": "e7437988-254b-4fad-9233-e644d6bf84bf",
   "metadata": {},
   "outputs": [],
   "source": [
    "class test:\n",
    "    __str__ = \"<method-wrapper '__str__' of function object at 0x00000228B430E550>\"  # attribute\n",
    "    def p(self):\n",
    "        print(3)\n",
    "\n",
    "\n",
    "class B(A):\n",
    "    def q(self):\n",
    "        print(4)\n",
    "\n",
    "b = B()\n",
    "b.p()\n",
    "\n",
    "\",\".join([1,2,3])\n",
    "\n",
    "a = \"my\"\n",
    "b = \"name\"\n",
    "c = \"is\"\n",
    "\" \".join((a,b,c))  \n",
    "\n",
    "''.replace()\n",
    "''.join()\n",
    "''.strip()\n",
    "\n",
    "def test():pass\n",
    "print(test.__str__)\n",
    "\n",
    "import t\n",
    "\n",
    "print(dir(pandas))\n",
    "\n",
    "print(dir(\",\"))\n",
    "\n",
    "print(dir([1,2]))\n",
    "\n",
    "print(dir(__builtins__))"
   ]
  },
  {
   "cell_type": "code",
   "execution_count": null,
   "id": "fc0167e5-1890-4d8e-8c82-5531e73a9cda",
   "metadata": {},
   "outputs": [],
   "source": [
    "pd.read_csv()"
   ]
  }
 ],
 "metadata": {
  "kernelspec": {
   "display_name": "Python 3 (ipykernel)",
   "language": "python",
   "name": "python3"
  },
  "language_info": {
   "codemirror_mode": {
    "name": "ipython",
    "version": 3
   },
   "file_extension": ".py",
   "mimetype": "text/x-python",
   "name": "python",
   "nbconvert_exporter": "python",
   "pygments_lexer": "ipython3",
   "version": "3.8.8"
  }
 },
 "nbformat": 4,
 "nbformat_minor": 5
}
