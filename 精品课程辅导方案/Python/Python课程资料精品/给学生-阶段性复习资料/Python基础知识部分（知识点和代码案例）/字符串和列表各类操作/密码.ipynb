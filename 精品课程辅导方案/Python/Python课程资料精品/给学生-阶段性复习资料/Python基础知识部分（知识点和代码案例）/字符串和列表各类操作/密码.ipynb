{
 "cells": [
  {
   "cell_type": "markdown",
   "id": "df27edc8-1196-4642-9763-7f21702fc6c3",
   "metadata": {},
   "source": [
    "### 栅栏密码"
   ]
  },
  {
   "cell_type": "code",
   "execution_count": null,
   "id": "e9505c3c-0337-4ddf-adc1-7347e9a90010",
   "metadata": {},
   "outputs": [],
   "source": [
    "abcdef 明文\n",
    "\n",
    "abc   def\n",
    "\n",
    "adbecf  密文\n",
    "\n",
    "\n",
    "abcde 明文\n",
    "\n",
    "abc   de\n",
    "\n",
    "adbec 密文"
   ]
  },
  {
   "cell_type": "code",
   "execution_count": null,
   "id": "fca0af3e-6cb9-46ea-8b96-d10657eba57e",
   "metadata": {},
   "outputs": [],
   "source": [
    "def encrypt(plaintext):\n",
    "    return secret\n",
    "\n",
    "def decrypt(secret):\n",
    "    return plaintext"
   ]
  },
  {
   "cell_type": "code",
   "execution_count": 31,
   "id": "0485a622-5f7f-4e6b-85f6-94422031fb47",
   "metadata": {},
   "outputs": [
    {
     "name": "stdout",
     "output_type": "stream",
     "text": [
      "adbec\n"
     ]
    }
   ],
   "source": [
    "def encrypt(plaintext):\n",
    "    secret = \"\"\n",
    "    if len(plaintext)%2 == 0:\n",
    "        plaintext_half1 = plaintext[0:len(plaintext) // 2]  \n",
    "        plaintext_half2 = plaintext[len(plaintext) //2:]\n",
    "    else:\n",
    "        plaintext_half1 = plaintext[0:len(plaintext) // 2+1]  \n",
    "        plaintext_half2 = plaintext[len(plaintext) //2+1:]\n",
    "        \n",
    "    for i in range(len(plaintext_half1)):\n",
    "        if i == len(plaintext_half1)-1:\n",
    "            if  len(plaintext) % 2 == 0:\n",
    "                secret = secret + plaintext_half1[i] + plaintext_half2[i]\n",
    "            else:\n",
    "                secret = secret + plaintext_half1[i] \n",
    "        else:\n",
    "            secret = secret + plaintext_half1[i] + plaintext_half2[i]\n",
    "    return secret\n",
    "\n",
    "print(encrypt(\"abcde\"))"
   ]
  },
  {
   "cell_type": "code",
   "execution_count": null,
   "id": "c0ab5b15-e981-47cc-b14b-9f289a1ca758",
   "metadata": {},
   "outputs": [],
   "source": [
    "abcde\n",
    "\n",
    "def decrypt(secret):\n",
    "    r1 = \"\"\n",
    "    r2 = \"\"\n",
    "    for i in range(len(secret)):\n",
    "        if i%2 == 0:\n",
    "            r1 = ______\n",
    "        else:\n",
    "            r2 = ______\n",
    "    return ______"
   ]
  },
  {
   "cell_type": "code",
   "execution_count": 11,
   "id": "ecf1560b-1880-48cc-a437-1f6ec5a7acc3",
   "metadata": {},
   "outputs": [
    {
     "ename": "TypeError",
     "evalue": "slice indices must be integers or None or have an __index__ method",
     "output_type": "error",
     "traceback": [
      "\u001b[1;31m---------------------------------------------------------------------------\u001b[0m",
      "\u001b[1;31mTypeError\u001b[0m                                 Traceback (most recent call last)",
      "Cell \u001b[1;32mIn[11], line 2\u001b[0m\n\u001b[0;32m      1\u001b[0m s \u001b[38;5;241m=\u001b[39m \u001b[38;5;124m\"\u001b[39m\u001b[38;5;124m122222222222222\u001b[39m\u001b[38;5;124m\"\u001b[39m\n\u001b[1;32m----> 2\u001b[0m \u001b[43ms\u001b[49m\u001b[43m[\u001b[49m\u001b[38;5;241;43m0\u001b[39;49m\u001b[43m:\u001b[49m\u001b[38;5;241;43m7\u001b[39;49m\u001b[38;5;241;43m/\u001b[39;49m\u001b[38;5;241;43m2\u001b[39;49m\u001b[43m]\u001b[49m\n",
      "\u001b[1;31mTypeError\u001b[0m: slice indices must be integers or None or have an __index__ method"
     ]
    }
   ],
   "source": [
    "s = \"122222222222222\"\n",
    "s[0:7/2]"
   ]
  },
  {
   "cell_type": "markdown",
   "id": "0576a756-ee5d-4741-ae4a-9f3e84d0e59b",
   "metadata": {},
   "source": [
    "### 凯撒密码"
   ]
  },
  {
   "cell_type": "code",
   "execution_count": null,
   "id": "e3a7e3fa-e499-4e27-b828-4d919a8a1626",
   "metadata": {},
   "outputs": [],
   "source": []
  }
 ],
 "metadata": {
  "kernelspec": {
   "display_name": "Python 3 (ipykernel)",
   "language": "python",
   "name": "python3"
  },
  "language_info": {
   "codemirror_mode": {
    "name": "ipython",
    "version": 3
   },
   "file_extension": ".py",
   "mimetype": "text/x-python",
   "name": "python",
   "nbconvert_exporter": "python",
   "pygments_lexer": "ipython3",
   "version": "3.8.8"
  }
 },
 "nbformat": 4,
 "nbformat_minor": 5
}
