{
 "cells": [
  {
   "cell_type": "code",
   "execution_count": null,
   "id": "fba353cc-0629-4626-8a93-bfe8b6c3acd8",
   "metadata": {},
   "outputs": [],
   "source": [
    "age = int(input())\n",
    "print(\"我的年龄是%d岁\" % age)  "
   ]
  },
  {
   "cell_type": "code",
   "execution_count": 3,
   "id": "b8767bed-2409-4949-b67d-34b8b43ee426",
   "metadata": {},
   "outputs": [
    {
     "name": "stdout",
     "output_type": "stream",
     "text": [
      "我的年龄是12岁\n"
     ]
    }
   ],
   "source": [
    "print(\"我的年龄是12岁\")"
   ]
  },
  {
   "cell_type": "code",
   "execution_count": 9,
   "id": "c4b0a6a0-2523-4ce6-bf28-b182c041b91c",
   "metadata": {},
   "outputs": [
    {
     "name": "stdout",
     "output_type": "stream",
     "text": [
      "我的姓名：小明\n",
      "我的年龄：25\n",
      "我的身高：180.880000\n",
      "我的身高：180.88\n"
     ]
    }
   ],
   "source": [
    "my_name = \"小明\"\n",
    "my_age = 25\n",
    "my_height = 180.88\n",
    "\n",
    "print(\"我的姓名：%s\" % my_name)\n",
    "print(\"我的年龄：%d\" % my_age)\n",
    "print(\"我的身高：%f\" % my_height)\n",
    "print(\"我的身高：%.2f\" % my_height)"
   ]
  },
  {
   "cell_type": "code",
   "execution_count": 12,
   "id": "e1d35542-e753-4e69-b100-1dbfe98420d7",
   "metadata": {},
   "outputs": [
    {
     "name": "stdout",
     "output_type": "stream",
     "text": [
      "142\n"
     ]
    }
   ],
   "source": [
    "a =  '14'\n",
    "print(a + str(2))"
   ]
  },
  {
   "cell_type": "code",
   "execution_count": null,
   "id": "0c8287f3-126b-4a6b-a43a-4f571440c650",
   "metadata": {},
   "outputs": [],
   "source": [
    "a =  '14'\n",
    "print(int(a) + 2)"
   ]
  },
  {
   "cell_type": "markdown",
   "id": "22717c03-930d-433d-ac40-1e56adae6d3c",
   "metadata": {},
   "source": [
    "### 函数"
   ]
  },
  {
   "cell_type": "code",
   "execution_count": null,
   "id": "43d301e5-bfa2-425f-b2b5-f2bc40b8e4b9",
   "metadata": {},
   "outputs": [],
   "source": [
    "def func(a,b,c,d=10,e=20,*args,**kwargs):\n",
    "    args = [30,40]\n",
    "    kwargs= {'z':6}\n",
    "    pass\n",
    "\n",
    "func(1,1,1,10,20,30,40,z=6)"
   ]
  },
  {
   "cell_type": "code",
   "execution_count": 17,
   "id": "28d1646f-33a5-4fcb-8fcc-32d0049d31b6",
   "metadata": {},
   "outputs": [
    {
     "name": "stdout",
     "output_type": "stream",
     "text": [
      "7\n"
     ]
    }
   ],
   "source": [
    "def my_func01(*args):\n",
    "    # print(type(args))\n",
    "    print(args[3])\n",
    "\n",
    "# my_func01(1, 3, 5)\n",
    "my_func01(1, 3, 5, 7)\n"
   ]
  },
  {
   "cell_type": "code",
   "execution_count": 20,
   "id": "899d0aab-f594-4b29-b417-713e00579e1b",
   "metadata": {},
   "outputs": [
    {
     "name": "stdout",
     "output_type": "stream",
     "text": [
      "<class 'dict'>\n",
      "小明\n",
      "12\n"
     ]
    }
   ],
   "source": [
    "def my_func02(**kwargs):\n",
    "    print(type(kwargs))\n",
    "    print(kwargs[\"name\"])\n",
    "    print(kwargs[\"age\"])\n",
    "\n",
    "my_func02(name=\"小明\", age=12)"
   ]
  },
  {
   "cell_type": "code",
   "execution_count": 21,
   "id": "2b839d3d-4b67-4d52-90ff-9ddc67642ad0",
   "metadata": {},
   "outputs": [
    {
     "data": {
      "text/plain": [
       "(3, 4)"
      ]
     },
     "execution_count": 21,
     "metadata": {},
     "output_type": "execute_result"
    }
   ],
   "source": [
    "def my_func04(a,b):\n",
    "    return a+1,b+1\n",
    "\n",
    "x = my_func04(2,3)\n",
    "x"
   ]
  },
  {
   "cell_type": "code",
   "execution_count": 22,
   "id": "102d220c-c7f8-4c66-a707-014c8aa0dc53",
   "metadata": {},
   "outputs": [
    {
     "name": "stdout",
     "output_type": "stream",
     "text": [
      "3\n",
      "4\n"
     ]
    }
   ],
   "source": [
    "def my_func04(a,b):\n",
    "    return a+1,b+1\n",
    "\n",
    "x,y = my_func04(2,3)\n",
    "print(x)\n",
    "print(y)'''每个数字可以写成多个质数的乘积，给定一个数字，请你分解为多个质数'''\n",
    "\n",
    "def fun(num, list=None):\n",
    "    if list is None:\n",
    "        list = []\n",
    "    for i in range(2, num):\n",
    "        while num % i == 0:\n",
    "            list.append(i)\n",
    "            num = int(num / i)\n",
    "            if num > 1:\n",
    "                fun(num)\n",
    "    return list\n",
    "x = 9*5\n",
    "print(fun(x))"
   ]
  },
  {
   "cell_type": "code",
   "execution_count": 23,
   "id": "43df554e-4c69-4170-bcd9-0ff3e57cbf71",
   "metadata": {},
   "outputs": [
    {
     "name": "stdout",
     "output_type": "stream",
     "text": [
      "内部num = 20\n",
      "外部num = 10\n"
     ]
    }
   ],
   "source": [
    "num = 10\n",
    "def my_func01():\n",
    "    num = 20    # 这里告诉函数并非创建新的局部变量，而是使用全局的变量操作\n",
    "    print(\"内部num = %s\" % num)\n",
    "\n",
    "my_func01()\n",
    "print(\"外部num = %s\" % num)"
   ]
  },
  {
   "cell_type": "code",
   "execution_count": null,
   "id": "ace3e443-9a4a-4d74-9d6e-a1f49b795c30",
   "metadata": {},
   "outputs": [],
   "source": [
    "1\n",
    "23\n",
    "\"\"\n",
    "3.14"
   ]
  },
  {
   "cell_type": "code",
   "execution_count": 1,
   "id": "20231641-c36d-4f8a-b7df-18b001fa12d4",
   "metadata": {},
   "outputs": [
    {
     "data": {
      "text/plain": [
       "'1,2,3'"
      ]
     },
     "execution_count": 1,
     "metadata": {},
     "output_type": "execute_result"
    }
   ],
   "source": [
    "\",\".join([\"1\",\"2\",\"3\"])"
   ]
  },
  {
   "cell_type": "code",
   "execution_count": 5,
   "id": "7b172397-4e4e-43ac-9b30-46f582859de7",
   "metadata": {},
   "outputs": [
    {
     "data": {
      "text/plain": [
       "'1,2'"
      ]
     },
     "execution_count": 5,
     "metadata": {},
     "output_type": "execute_result"
    }
   ],
   "source": [
    "\" 1,2 \".strip()"
   ]
  },
  {
   "cell_type": "code",
   "execution_count": null,
   "id": "36abd149-e7c2-44fe-a8e0-5eab085f1b33",
   "metadata": {},
   "outputs": [],
   "source": []
  }
 ],
 "metadata": {
  "kernelspec": {
   "display_name": "Python 3 (ipykernel)",
   "language": "python",
   "name": "python3"
  },
  "language_info": {
   "codemirror_mode": {
    "name": "ipython",
    "version": 3
   },
   "file_extension": ".py",
   "mimetype": "text/x-python",
   "name": "python",
   "nbconvert_exporter": "python",
   "pygments_lexer": "ipython3",
   "version": "3.8.8"
  }
 },
 "nbformat": 4,
 "nbformat_minor": 5
}
