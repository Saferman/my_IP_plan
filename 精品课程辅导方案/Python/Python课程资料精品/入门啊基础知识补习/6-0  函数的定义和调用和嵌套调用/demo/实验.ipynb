{
 "cells": [
  {
   "cell_type": "code",
   "execution_count": 1,
   "id": "e2ba53d2-09a8-4df3-8df2-f0a1ab2519ac",
   "metadata": {},
   "outputs": [],
   "source": [
    "import gcd # 在官方库里寻找，找不到就在同目录找"
   ]
  },
  {
   "cell_type": "code",
   "execution_count": 4,
   "id": "aaacfdd8-168c-4b9a-9574-f30630da8a17",
   "metadata": {},
   "outputs": [
    {
     "name": "stdout",
     "output_type": "stream",
     "text": [
      "6\n",
      "5\n"
     ]
    }
   ],
   "source": [
    "import test # import后面是模块，一个py文件就是一个模块，模块的名字就是文件名\n",
    "print(test.gcd(12,18))\n",
    "print(test.gcd(10,5))"
   ]
  },
  {
   "cell_type": "code",
   "execution_count": 5,
   "id": "1e72c6d7-84ea-4f87-97f5-c54898d2a6b4",
   "metadata": {},
   "outputs": [
    {
     "name": "stdout",
     "output_type": "stream",
     "text": [
      "6\n",
      "5\n"
     ]
    }
   ],
   "source": [
    "from test import gcd\n",
    "print(gcd(12,18))\n",
    "print(gcd(10,5))"
   ]
  },
  {
   "cell_type": "code",
   "execution_count": 2,
   "id": "6a6fc4a2-ca2d-46c8-96a6-a687fab4d6c3",
   "metadata": {
    "collapsed": true,
    "jupyter": {
     "outputs_hidden": true
    },
    "scrolled": true
   },
   "outputs": [
    {
     "ename": "NameError",
     "evalue": "name 't' is not defined",
     "output_type": "error",
     "traceback": [
      "\u001b[1;31m---------------------------------------------------------------------------\u001b[0m",
      "\u001b[1;31mNameError\u001b[0m                                 Traceback (most recent call last)",
      "Cell \u001b[1;32mIn[2], line 2\u001b[0m\n\u001b[0;32m      1\u001b[0m \u001b[38;5;28;01mimport\u001b[39;00m \u001b[38;5;21;01mtest2\u001b[39;00m\u001b[38;5;21;01m.\u001b[39;00m\u001b[38;5;21;01mt\u001b[39;00m\n\u001b[1;32m----> 2\u001b[0m \u001b[38;5;28mprint\u001b[39m(\u001b[43mt\u001b[49m\u001b[38;5;241m.\u001b[39madd())\n",
      "\u001b[1;31mNameError\u001b[0m: name 't' is not defined"
     ]
    }
   ],
   "source": [
    "import test2.t\n",
    "print(t.add())"
   ]
  },
  {
   "cell_type": "code",
   "execution_count": null,
   "id": "1a282a41-0e49-4a9a-ae25-11fa45a1cb01",
   "metadata": {},
   "outputs": [],
   "source": [
    "from test2.t import add\n",
    "print(add())"
   ]
  }
 ],
 "metadata": {
  "kernelspec": {
   "display_name": "Python 3 (ipykernel)",
   "language": "python",
   "name": "python3"
  },
  "language_info": {
   "codemirror_mode": {
    "name": "ipython",
    "version": 3
   },
   "file_extension": ".py",
   "mimetype": "text/x-python",
   "name": "python",
   "nbconvert_exporter": "python",
   "pygments_lexer": "ipython3",
   "version": "3.8.8"
  }
 },
 "nbformat": 4,
 "nbformat_minor": 5
}
