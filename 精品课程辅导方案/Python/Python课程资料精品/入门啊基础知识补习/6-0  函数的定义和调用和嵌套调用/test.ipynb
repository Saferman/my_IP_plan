{
 "cells": [
  {
   "cell_type": "code",
   "execution_count": 2,
   "id": "fd84a08c-8693-488e-8bd0-34082b3231fa",
   "metadata": {},
   "outputs": [
    {
     "name": "stdout",
     "output_type": "stream",
     "text": [
      "13\n"
     ]
    }
   ],
   "source": [
    "def get_num(n):\n",
    "    if n==1 or n==2:return 1\n",
    "    return get_num(n-1)+get_num(n-2)\n",
    "\n",
    "print(get_num(7))"
   ]
  },
  {
   "cell_type": "code",
   "execution_count": null,
   "id": "1b72bf15-60cd-41fa-aea1-fb877b3caede",
   "metadata": {},
   "outputs": [],
   "source": [
    "斐波纳契数列：1，1，2，3，5，8，13。。。（该数列中，有n个数字，从第三个数字开始：数值 =前一个数字 + 前面一个数字）\n",
    "\n",
    "即，A_n = A_n-1 + A_n-2"
   ]
  }
 ],
 "metadata": {
  "kernelspec": {
   "display_name": "Python 3 (ipykernel)",
   "language": "python",
   "name": "python3"
  },
  "language_info": {
   "codemirror_mode": {
    "name": "ipython",
    "version": 3
   },
   "file_extension": ".py",
   "mimetype": "text/x-python",
   "name": "python",
   "nbconvert_exporter": "python",
   "pygments_lexer": "ipython3",
   "version": "3.8.8"
  }
 },
 "nbformat": 4,
 "nbformat_minor": 5
}
