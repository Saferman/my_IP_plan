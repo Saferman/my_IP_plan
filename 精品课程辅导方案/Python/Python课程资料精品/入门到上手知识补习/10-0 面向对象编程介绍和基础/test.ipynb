{
 "cells": [
  {
   "cell_type": "code",
   "execution_count": null,
   "id": "cbafa12a-3c7b-4b43-8120-f20652f344fc",
   "metadata": {},
   "outputs": [],
   "source": [
    "apple\n",
    "banana"
   ]
  },
  {
   "cell_type": "code",
   "execution_count": 41,
   "id": "cb39afde-f397-4d32-8124-122a018dd969",
   "metadata": {},
   "outputs": [
    {
     "name": "stdout",
     "output_type": "stream",
     "text": [
      "i love apple\n"
     ]
    }
   ],
   "source": [
    "def output(s):\n",
    "    if s == \"apple\":\n",
    "        print(\"i love \" + s)\n",
    "    else:\n",
    "        print(s)\n",
    "    return 233\n",
    "\n",
    "def dosplit(s):\n",
    "    a = [i for i in s]\n",
    "    return a\n",
    "\n",
    "output('apple')\n",
    "x = 1"
   ]
  },
  {
   "cell_type": "code",
   "execution_count": 7,
   "id": "c90bcbf5-3478-4044-8e85-60b2f6dd534e",
   "metadata": {},
   "outputs": [
    {
     "data": {
      "text/plain": [
       "['a', 'p', 'p', 'l', 'e']"
      ]
     },
     "execution_count": 7,
     "metadata": {},
     "output_type": "execute_result"
    }
   ],
   "source": [
    "dosplit(\"apple\")"
   ]
  },
  {
   "cell_type": "code",
   "execution_count": 13,
   "id": "379e08c4-682f-4a6d-ba57-7a6066e4108d",
   "metadata": {},
   "outputs": [
    {
     "name": "stdout",
     "output_type": "stream",
     "text": [
      "banana\n"
     ]
    }
   ],
   "source": [
    "output('banana')"
   ]
  },
  {
   "cell_type": "code",
   "execution_count": 10,
   "id": "e198f9d6-e80d-481e-9bc5-a1a9d9a08b8a",
   "metadata": {},
   "outputs": [
    {
     "data": {
      "text/plain": [
       "['b', 'a', 'n', 'a', 'n', 'a']"
      ]
     },
     "execution_count": 10,
     "metadata": {},
     "output_type": "execute_result"
    }
   ],
   "source": [
    "dosplit('banana')"
   ]
  },
  {
   "cell_type": "markdown",
   "id": "c265ff6c-2a14-43a2-a417-e36cc2a79a09",
   "metadata": {},
   "source": [
    "### 对象(attribute method)"
   ]
  },
  {
   "cell_type": "code",
   "execution_count": 27,
   "id": "08e6362d-40b6-4a8d-b6f0-8f41f8809678",
   "metadata": {},
   "outputs": [],
   "source": [
    "class Fruit():\n",
    "    def output(self,s):\n",
    "        print(s)\n",
    "        \n",
    "    def dosplit(self,s):\n",
    "        a = [i for i in s]\n",
    "        return a"
   ]
  },
  {
   "cell_type": "code",
   "execution_count": 29,
   "id": "65f8517d-d0b7-490c-bef2-b301a44b373a",
   "metadata": {},
   "outputs": [],
   "source": [
    "class Apple(Fruit):\n",
    "    def output(self,s):\n",
    "        print(\"i love \" + s)\n",
    "\n",
    "class Banana(Fruit):\n",
    "    pass"
   ]
  },
  {
   "cell_type": "code",
   "execution_count": 30,
   "id": "34f20228-c4ec-45d0-bb3a-cac572e64f16",
   "metadata": {},
   "outputs": [
    {
     "name": "stdout",
     "output_type": "stream",
     "text": [
      "i love apple\n"
     ]
    }
   ],
   "source": [
    "Apple().output('apple')"
   ]
  },
  {
   "cell_type": "code",
   "execution_count": 31,
   "id": "d53e7882-f329-4fd4-8e8f-3d1fc2a6cf41",
   "metadata": {},
   "outputs": [
    {
     "data": {
      "text/plain": [
       "['a', 'p', 'p', 'l', 'e']"
      ]
     },
     "execution_count": 31,
     "metadata": {},
     "output_type": "execute_result"
    }
   ],
   "source": [
    "Apple().dosplit('apple')"
   ]
  },
  {
   "cell_type": "code",
   "execution_count": 32,
   "id": "1e9359e8-c317-48f6-9b6a-214e8ad1fc1b",
   "metadata": {},
   "outputs": [
    {
     "name": "stdout",
     "output_type": "stream",
     "text": [
      "banana\n"
     ]
    }
   ],
   "source": [
    "Banana().output('banana')"
   ]
  },
  {
   "cell_type": "code",
   "execution_count": 33,
   "id": "bb9b421f-8303-4068-8178-bedc09c06e3e",
   "metadata": {},
   "outputs": [
    {
     "data": {
      "text/plain": [
       "['b', 'a', 'n', 'a', 'n', 'a']"
      ]
     },
     "execution_count": 33,
     "metadata": {},
     "output_type": "execute_result"
    }
   ],
   "source": [
    "Banana().dosplit('banana')"
   ]
  },
  {
   "cell_type": "code",
   "execution_count": null,
   "id": "a030ed35-20ac-4aba-822d-d4f61a8ca2d0",
   "metadata": {},
   "outputs": [],
   "source": [
    "[1,2,3].index(2)"
   ]
  },
  {
   "cell_type": "code",
   "execution_count": 44,
   "id": "c676c23f-9b9a-4a6e-a345-ad4e8a34117e",
   "metadata": {},
   "outputs": [
    {
     "data": {
      "text/plain": [
       "''"
      ]
     },
     "execution_count": 44,
     "metadata": {},
     "output_type": "execute_result"
    }
   ],
   "source": [
    "''.join([])"
   ]
  },
  {
   "cell_type": "code",
   "execution_count": 46,
   "id": "458ab254-4329-4189-949c-0afaa7b4172b",
   "metadata": {},
   "outputs": [],
   "source": [
    "### 对象（实例化）"
   ]
  },
  {
   "cell_type": "code",
   "execution_count": 45,
   "id": "194f42ce-d844-4a1b-8dac-45f232fd22f6",
   "metadata": {},
   "outputs": [
    {
     "name": "stdout",
     "output_type": "stream",
     "text": [
      "1561096550336\n",
      "1561096550336\n",
      "英雄会行走...\n",
      "英雄名字01\n",
      "22\n",
      "4000\n",
      "默认的名字\n",
      "默认的名字\n",
      "18\n"
     ]
    }
   ],
   "source": [
    "class Hero(object):\n",
    "\n",
    "    # python提供的两个下划线的魔法方法，创建该类对象的时候自动调用，类似于构造方法\n",
    "    # def __init__(self):\n",
    "    #     self.name = \"旺财\"\n",
    "\n",
    "    def __init__(self, age, my_name = \"默认的名字\"):     # 构造方法的参数也和kotlin一样可以默认参数\n",
    "        self.name = my_name\n",
    "        self.age = age\n",
    "\n",
    "    def move(self):\n",
    "        print(id(self))\n",
    "        print(\"英雄会行走...\")\n",
    "\n",
    "    def print_info(self):\n",
    "        print(self.name)\n",
    "        print(self.age)\n",
    "        print(self.hp)#不好的习惯\n",
    "\n",
    "\n",
    "hero01 = Hero(22)\n",
    "print(id(hero01))   # 打印的id和move方法中的self的id是同一个地址\n",
    "\n",
    "hero01.move()\n",
    "hero01.name = \"英雄名字01\"\n",
    "hero01.age = 22\n",
    "hero01.hp = 4000\n",
    "hero01.print_info()\n",
    "\n",
    "hero02 = Hero(22)\n",
    "print(hero02.name)\n",
    "\n",
    "hero03 = Hero(18)\n",
    "print(hero03.name)\n",
    "print(hero03.age)\n"
   ]
  },
  {
   "cell_type": "code",
   "execution_count": 47,
   "id": "f54c46e0-7714-4cc9-8130-b25ba863d193",
   "metadata": {},
   "outputs": [
    {
     "name": "stdout",
     "output_type": "stream",
     "text": [
      "默认的名字\n",
      "18\n"
     ]
    },
    {
     "ename": "AttributeError",
     "evalue": "'Hero' object has no attribute 'hp'",
     "output_type": "error",
     "traceback": [
      "\u001b[1;31m---------------------------------------------------------------------------\u001b[0m",
      "\u001b[1;31mAttributeError\u001b[0m                            Traceback (most recent call last)",
      "Cell \u001b[1;32mIn[47], line 1\u001b[0m\n\u001b[1;32m----> 1\u001b[0m \u001b[43mhero03\u001b[49m\u001b[38;5;241;43m.\u001b[39;49m\u001b[43mprint_info\u001b[49m\u001b[43m(\u001b[49m\u001b[43m)\u001b[49m\n",
      "Cell \u001b[1;32mIn[45], line 18\u001b[0m, in \u001b[0;36mHero.print_info\u001b[1;34m(self)\u001b[0m\n\u001b[0;32m     16\u001b[0m \u001b[38;5;28mprint\u001b[39m(\u001b[38;5;28mself\u001b[39m\u001b[38;5;241m.\u001b[39mname)\n\u001b[0;32m     17\u001b[0m \u001b[38;5;28mprint\u001b[39m(\u001b[38;5;28mself\u001b[39m\u001b[38;5;241m.\u001b[39mage)\n\u001b[1;32m---> 18\u001b[0m \u001b[38;5;28mprint\u001b[39m(\u001b[38;5;28;43mself\u001b[39;49m\u001b[38;5;241;43m.\u001b[39;49m\u001b[43mhp\u001b[49m)\n",
      "\u001b[1;31mAttributeError\u001b[0m: 'Hero' object has no attribute 'hp'"
     ]
    }
   ],
   "source": [
    "hero03.print_info()"
   ]
  },
  {
   "cell_type": "code",
   "execution_count": null,
   "id": "f4a793ff-9d3d-4aed-b79d-8efd5fda8767",
   "metadata": {},
   "outputs": [],
   "source": [
    "'a'.join()\n",
    "'b'.join()"
   ]
  }
 ],
 "metadata": {
  "kernelspec": {
   "display_name": "Python 3 (ipykernel)",
   "language": "python",
   "name": "python3"
  },
  "language_info": {
   "codemirror_mode": {
    "name": "ipython",
    "version": 3
   },
   "file_extension": ".py",
   "mimetype": "text/x-python",
   "name": "python",
   "nbconvert_exporter": "python",
   "pygments_lexer": "ipython3",
   "version": "3.8.8"
  }
 },
 "nbformat": 4,
 "nbformat_minor": 5
}
