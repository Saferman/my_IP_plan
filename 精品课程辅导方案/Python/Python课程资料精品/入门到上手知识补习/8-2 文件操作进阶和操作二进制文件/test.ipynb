{
 "cells": [
  {
   "cell_type": "markdown",
   "id": "220c9b4c-c93f-466e-af74-0fafa1e3e6af",
   "metadata": {},
   "source": [
    "### 文件操作实验"
   ]
  },
  {
   "cell_type": "markdown",
   "id": "27e64d55-3f37-45d6-96a8-92a64c3780f8",
   "metadata": {},
   "source": [
    "1.打开一个文件读取每一行的内容\n",
    "2.如果是#号开头就跳过\n",
    "3.不是#开头就把这行的转换成数字后加10"
   ]
  }
 ],
 "metadata": {
  "kernelspec": {
   "display_name": "Python 3 (ipykernel)",
   "language": "python",
   "name": "python3"
  },
  "language_info": {
   "codemirror_mode": {
    "name": "ipython",
    "version": 3
   },
   "file_extension": ".py",
   "mimetype": "text/x-python",
   "name": "python",
   "nbconvert_exporter": "python",
   "pygments_lexer": "ipython3",
   "version": "3.8.8"
  }
 },
 "nbformat": 4,
 "nbformat_minor": 5
}
