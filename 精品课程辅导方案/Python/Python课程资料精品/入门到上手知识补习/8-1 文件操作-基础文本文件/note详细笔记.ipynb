{
 "cells": [
  {
   "cell_type": "code",
   "execution_count": 4,
   "id": "bfa538f9-0a13-4078-9a6c-690394c84628",
   "metadata": {},
   "outputs": [],
   "source": [
    "f = open(\"Test.txt\")\n",
    "f.read()\n",
    "f.close()"
   ]
  },
  {
   "cell_type": "code",
   "execution_count": 5,
   "id": "36990bae-ca57-482a-9c69-9d118711a05c",
   "metadata": {},
   "outputs": [
    {
     "name": "stdout",
     "output_type": "stream",
     "text": [
      "Hello World\n"
     ]
    },
    {
     "ename": "ValueError",
     "evalue": "I/O operation on closed file.",
     "output_type": "error",
     "traceback": [
      "\u001b[1;31m---------------------------------------------------------------------------\u001b[0m",
      "\u001b[1;31mValueError\u001b[0m                                Traceback (most recent call last)",
      "Cell \u001b[1;32mIn[5], line 3\u001b[0m\n\u001b[0;32m      1\u001b[0m \u001b[38;5;28;01mwith\u001b[39;00m \u001b[38;5;28mopen\u001b[39m(\u001b[38;5;124m\"\u001b[39m\u001b[38;5;124mTest.txt\u001b[39m\u001b[38;5;124m\"\u001b[39m) \u001b[38;5;28;01mas\u001b[39;00m f:\n\u001b[0;32m      2\u001b[0m     \u001b[38;5;28mprint\u001b[39m(f\u001b[38;5;241m.\u001b[39mread())\n\u001b[1;32m----> 3\u001b[0m \u001b[43mf\u001b[49m\u001b[38;5;241;43m.\u001b[39;49m\u001b[43mread\u001b[49m\u001b[43m(\u001b[49m\u001b[43m)\u001b[49m\n",
      "\u001b[1;31mValueError\u001b[0m: I/O operation on closed file."
     ]
    }
   ],
   "source": [
    "with open(\"Test.txt\") as f:\n",
    "    print(f.read())\n",
    "    f.write()\n",
    "f.read()"
   ]
  },
  {
   "cell_type": "code",
   "execution_count": null,
   "id": "fa8806c5-21e0-473d-b2db-ee4c0c1cb274",
   "metadata": {},
   "outputs": [],
   "source": [
    "r\n",
    "w\n",
    "a"
   ]
  },
  {
   "cell_type": "code",
   "execution_count": 12,
   "id": "479b14cf-5d2f-427a-92d9-a8fb6d5b491e",
   "metadata": {},
   "outputs": [],
   "source": [
    "f = open(\"Test.txt\",\"w\")\n",
    "f.write(\"2333\")\n",
    "f.close()"
   ]
  },
  {
   "cell_type": "code",
   "execution_count": 11,
   "id": "794f9ac7-c3d4-4d64-9540-3b0b31e7a3af",
   "metadata": {},
   "outputs": [],
   "source": [
    "f = open(\"Test.txt\",\"a\")\n",
    "f.write(\"2333\")\n",
    "f.close()"
   ]
  },
  {
   "cell_type": "code",
   "execution_count": 4,
   "id": "edfde788-7372-46c8-965c-6ea6a990f895",
   "metadata": {},
   "outputs": [
    {
     "name": "stdout",
     "output_type": "stream",
     "text": [
      "['3.txt']\n"
     ]
    }
   ],
   "source": [
    "import os\n",
    "\n",
    "def func(path):\n",
    "    # 创建一个文件列表以存储文件名\n",
    "    files_list = []\n",
    "    # 获取当前目录的所有文件（包括文件夹）\n",
    "    files = os.listdir(path)\n",
    "\n",
    "    # 获取当前目录的所有文件（包括文件夹）\n",
    "    for i in files:\n",
    "        # 判断当前对象是文件or文件夹\n",
    "        if os.path.isdir(path + os.sep + i):\n",
    "            # 是文件夹，则把文件夹的名字添加进目录中，得到新路径\n",
    "            new_path = path + os.sep + i\n",
    "            # 然后传入新路径递归执行函数\n",
    "            files_list = func(new_path) + files_list\n",
    "        else:\n",
    "            # 是文件，直接把文件名添加进入文件列表\n",
    "            with open(path + os.sep + i, \"r\",encoding=\"utf-8\") as file:\n",
    "                s = file.read()\n",
    "                r = s.find(\"secret\")\n",
    "                if r != -1:\n",
    "                    files_list.append(i)\n",
    "    # 递归结束，返回文件列表                  \n",
    "    return files_list\n",
    "\n",
    "\n",
    "files_list = func('files')\n",
    "print(files_list)"
   ]
  },
  {
   "cell_type": "markdown",
   "id": "818d17f2-234a-47f9-8954-7a0cf5cdb58b",
   "metadata": {},
   "source": [
    "### 模块"
   ]
  },
  {
   "cell_type": "code",
   "execution_count": 6,
   "id": "2252cc37-1258-4d7c-8b4f-514d021967d1",
   "metadata": {},
   "outputs": [],
   "source": [
    "import os"
   ]
  },
  {
   "cell_type": "code",
   "execution_count": 7,
   "id": "434d5c2d-177f-4369-81ef-e059aeaa28d6",
   "metadata": {},
   "outputs": [
    {
     "data": {
      "text/plain": [
       "True"
      ]
     },
     "execution_count": 7,
     "metadata": {},
     "output_type": "execute_result"
    }
   ],
   "source": [
    "os.path.exists('files')"
   ]
  },
  {
   "cell_type": "code",
   "execution_count": 8,
   "id": "c13aeacb-7d2e-49e7-9fb9-6d26b9611561",
   "metadata": {},
   "outputs": [
    {
     "data": {
      "text/plain": [
       "False"
      ]
     },
     "execution_count": 8,
     "metadata": {},
     "output_type": "execute_result"
    }
   ],
   "source": [
    "os.path.exists('filesssss')"
   ]
  },
  {
   "cell_type": "code",
   "execution_count": 10,
   "id": "a5e68f48-121a-4974-9973-b6dc5d16b489",
   "metadata": {},
   "outputs": [
    {
     "data": {
      "text/plain": [
       "True"
      ]
     },
     "execution_count": 10,
     "metadata": {},
     "output_type": "execute_result"
    }
   ],
   "source": [
    "os.path.isdir('files')"
   ]
  },
  {
   "cell_type": "code",
   "execution_count": 9,
   "id": "9ee8bf3c-ce9e-42b2-a4a1-8216653c6cb9",
   "metadata": {},
   "outputs": [
    {
     "data": {
      "text/plain": [
       "['subdir', '1.txt']"
      ]
     },
     "execution_count": 9,
     "metadata": {},
     "output_type": "execute_result"
    }
   ],
   "source": [
    "os.listdir(\"files\")"
   ]
  },
  {
   "cell_type": "code",
   "execution_count": 12,
   "id": "1849b00d-3631-4852-bdf7-0bbe9c40a114",
   "metadata": {},
   "outputs": [],
   "source": [
    "os.mkdir(\"output\")"
   ]
  },
  {
   "cell_type": "code",
   "execution_count": null,
   "id": "5a1eab71-ece0-46aa-a480-2e46528b4533",
   "metadata": {},
   "outputs": [],
   "source": [
    "os.remove(\"Test.txt\")"
   ]
  },
  {
   "cell_type": "code",
   "execution_count": 13,
   "id": "563bf47f-9b1c-4f41-a983-f7f1ba65badb",
   "metadata": {},
   "outputs": [],
   "source": [
    "os.rmdir(\"output\")"
   ]
  },
  {
   "cell_type": "code",
   "execution_count": 22,
   "id": "149bc4b4-f534-4660-92ba-30823d273cb6",
   "metadata": {},
   "outputs": [],
   "source": [
    "import random"
   ]
  },
  {
   "cell_type": "code",
   "execution_count": 21,
   "id": "6233753d-f7e4-41f7-8ca2-e4e69cbd7dd2",
   "metadata": {},
   "outputs": [
    {
     "data": {
      "text/plain": [
       "71"
      ]
     },
     "execution_count": 21,
     "metadata": {},
     "output_type": "execute_result"
    }
   ],
   "source": [
    "random.randint(1,100)"
   ]
  },
  {
   "cell_type": "code",
   "execution_count": 23,
   "id": "f81eb517-4223-4fc5-8373-55b38d6ae6d7",
   "metadata": {},
   "outputs": [],
   "source": [
    "import json"
   ]
  },
  {
   "cell_type": "code",
   "execution_count": 24,
   "id": "32fadb95-95ea-4519-a142-c9583201fac9",
   "metadata": {},
   "outputs": [
    {
     "name": "stdout",
     "output_type": "stream",
     "text": [
      "1\n",
      "2\n"
     ]
    }
   ],
   "source": [
    "import time\n",
    "print('1')\n",
    "time.sleep(10)\n",
    "print(2)"
   ]
  },
  {
   "cell_type": "markdown",
   "id": "4eedd36b-f3f0-4ef7-be0b-f486238e8b9d",
   "metadata": {},
   "source": [
    "### string"
   ]
  },
  {
   "cell_type": "code",
   "execution_count": 26,
   "id": "5d668168-282d-4526-91d6-c4445761232d",
   "metadata": {},
   "outputs": [],
   "source": [
    "a = \"Abcdef123\""
   ]
  },
  {
   "cell_type": "code",
   "execution_count": 27,
   "id": "88b8ca0e-8931-440e-abfb-2e590eb7a50a",
   "metadata": {},
   "outputs": [
    {
     "data": {
      "text/plain": [
       "4"
      ]
     },
     "execution_count": 27,
     "metadata": {},
     "output_type": "execute_result"
    }
   ],
   "source": [
    "a.find('ef')"
   ]
  },
  {
   "cell_type": "code",
   "execution_count": 28,
   "id": "c3309b8f-a71c-48ba-9063-9f94a552cb9f",
   "metadata": {},
   "outputs": [
    {
     "data": {
      "text/plain": [
       "6"
      ]
     },
     "execution_count": 28,
     "metadata": {},
     "output_type": "execute_result"
    }
   ],
   "source": [
    "a.find('123')"
   ]
  },
  {
   "cell_type": "code",
   "execution_count": 30,
   "id": "5a8534cd-8425-4067-9301-a3fbce665aeb",
   "metadata": {},
   "outputs": [
    {
     "data": {
      "text/plain": [
       "-1"
      ]
     },
     "execution_count": 30,
     "metadata": {},
     "output_type": "execute_result"
    }
   ],
   "source": [
    "a.find('efr')"
   ]
  },
  {
   "cell_type": "code",
   "execution_count": 31,
   "id": "66bd6af0-a8f5-4033-b13f-396a5ab07f13",
   "metadata": {},
   "outputs": [
    {
     "data": {
      "text/plain": [
       "'abc'"
      ]
     },
     "execution_count": 31,
     "metadata": {},
     "output_type": "execute_result"
    }
   ],
   "source": [
    "a = \"333abc333\"\n",
    "a.strip(\"3\")"
   ]
  },
  {
   "cell_type": "code",
   "execution_count": 32,
   "id": "e00c941c-8813-443f-9ff3-21dd21605fea",
   "metadata": {},
   "outputs": [
    {
     "data": {
      "text/plain": [
       "'I am a boy!'"
      ]
     },
     "execution_count": 32,
     "metadata": {},
     "output_type": "execute_result"
    }
   ],
   "source": [
    "a = \"  I am a boy!  \"\n",
    "a.strip()"
   ]
  },
  {
   "cell_type": "code",
   "execution_count": 34,
   "id": "5e3d2619-98f9-4e07-b6ab-660aae4afea3",
   "metadata": {},
   "outputs": [
    {
     "ename": "TypeError",
     "evalue": "'str' object does not support item assignment",
     "output_type": "error",
     "traceback": [
      "\u001b[1;31m---------------------------------------------------------------------------\u001b[0m",
      "\u001b[1;31mTypeError\u001b[0m                                 Traceback (most recent call last)",
      "Cell \u001b[1;32mIn[34], line 2\u001b[0m\n\u001b[0;32m      1\u001b[0m a \u001b[38;5;241m=\u001b[39m \u001b[38;5;124m\"\u001b[39m\u001b[38;5;124mabc\u001b[39m\u001b[38;5;124m\"\u001b[39m\n\u001b[1;32m----> 2\u001b[0m \u001b[43ma\u001b[49m\u001b[43m[\u001b[49m\u001b[38;5;241;43m1\u001b[39;49m\u001b[43m]\u001b[49m \u001b[38;5;241m=\u001b[39m \u001b[38;5;124m'\u001b[39m\u001b[38;5;124mr\u001b[39m\u001b[38;5;124m'\u001b[39m\n",
      "\u001b[1;31mTypeError\u001b[0m: 'str' object does not support item assignment"
     ]
    }
   ],
   "source": [
    "a = \"abc\"\n",
    "a[1] = 'r'"
   ]
  },
  {
   "cell_type": "code",
   "execution_count": 35,
   "id": "25cafc5e-8053-4e6c-a06a-0c9657eb9ff3",
   "metadata": {},
   "outputs": [
    {
     "data": {
      "text/plain": [
       "'aec'"
      ]
     },
     "execution_count": 35,
     "metadata": {},
     "output_type": "execute_result"
    }
   ],
   "source": [
    "a = \"abc\"\n",
    "a.replace(\"b\",\"e\")"
   ]
  },
  {
   "cell_type": "code",
   "execution_count": 37,
   "id": "a1c39f97-b148-4ba7-8599-d990f2e5a669",
   "metadata": {},
   "outputs": [
    {
     "data": {
      "text/plain": [
       "False"
      ]
     },
     "execution_count": 37,
     "metadata": {},
     "output_type": "execute_result"
    }
   ],
   "source": [
    "'e' in 'abc'"
   ]
  },
  {
   "cell_type": "code",
   "execution_count": 38,
   "id": "7ed35e34-22c2-49d9-8570-908ab7ed813d",
   "metadata": {},
   "outputs": [
    {
     "data": {
      "text/plain": [
       "'abc'"
      ]
     },
     "execution_count": 38,
     "metadata": {},
     "output_type": "execute_result"
    }
   ],
   "source": [
    "\"Abc\".lower()"
   ]
  },
  {
   "cell_type": "code",
   "execution_count": 39,
   "id": "99d7b50e-6611-4809-9800-6957deb06460",
   "metadata": {},
   "outputs": [
    {
     "data": {
      "text/plain": [
       "'ABC'"
      ]
     },
     "execution_count": 39,
     "metadata": {},
     "output_type": "execute_result"
    }
   ],
   "source": [
    "\"Abc\".upper()"
   ]
  },
  {
   "cell_type": "code",
   "execution_count": 41,
   "id": "c7ce5a4e-791c-4809-b409-f142dfa487c6",
   "metadata": {},
   "outputs": [
    {
     "data": {
      "text/plain": [
       "'apple-banada-monkey'"
      ]
     },
     "execution_count": 41,
     "metadata": {},
     "output_type": "execute_result"
    }
   ],
   "source": [
    "b = ['apple','banada',\"monkey\"]\n",
    "\"-\".join(b)"
   ]
  },
  {
   "cell_type": "code",
   "execution_count": null,
   "id": "3693c8a7-c616-439a-ab5c-726e6a4deb1f",
   "metadata": {},
   "outputs": [],
   "source": []
  }
 ],
 "metadata": {
  "kernelspec": {
   "display_name": "Python 3 (ipykernel)",
   "language": "python",
   "name": "python3"
  },
  "language_info": {
   "codemirror_mode": {
    "name": "ipython",
    "version": 3
   },
   "file_extension": ".py",
   "mimetype": "text/x-python",
   "name": "python",
   "nbconvert_exporter": "python",
   "pygments_lexer": "ipython3",
   "version": "3.8.8"
  }
 },
 "nbformat": 4,
 "nbformat_minor": 5
}
