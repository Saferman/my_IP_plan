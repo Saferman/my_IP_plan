{
 "cells": [
  {
   "cell_type": "code",
   "execution_count": 1,
   "id": "6619da78-9e7e-44fb-821f-886f37cf8c92",
   "metadata": {},
   "outputs": [
    {
     "name": "stdout",
     "output_type": "stream",
     "text": [
      "[1, 5, 5, 3, 4, 1, 8]\n"
     ]
    }
   ],
   "source": [
    "disarranged_list = [1,5,8,5,3,4,1]\n",
    "for i in range(len(disarranged_list)-1):\n",
    "    if disarranged_list[i]> disarranged_list[i+1]:\n",
    "        disarranged_list[i],disarranged_list[i+1] = disarranged_list[i+1],disarranged_list[i]\n",
    "print(disarranged_list)"
   ]
  },
  {
   "cell_type": "code",
   "execution_count": 3,
   "id": "f2e851df-39c2-46c9-a1ad-1463bdf54cc5",
   "metadata": {},
   "outputs": [
    {
     "name": "stdout",
     "output_type": "stream",
     "text": [
      "[1, 1, 3, 4, 5, 5, 8]\n"
     ]
    }
   ],
   "source": [
    "disarranged_list = [1,5,8,5,3,4,1]\n",
    "for j in range(len(disarranged_list)-1):\n",
    "    for i in range(len(disarranged_list)-1-j):\n",
    "        if disarranged_list[i]> disarranged_list[i+1]:\n",
    "            disarranged_list[i],disarranged_list[i+1] = disarranged_list[i+1],disarranged_list[i]\n",
    "print(disarranged_list)"
   ]
  },
  {
   "cell_type": "code",
   "execution_count": null,
   "id": "f9d3a401-8366-47c9-bbfe-e4f124317d77",
   "metadata": {},
   "outputs": [],
   "source": [
    "from PIL import Image, ImageFilter\n",
    "img = Image.open('hellokitty.jpg')\n",
    "img = img.filter(ImageFilter.GaussianBlur)#高斯模糊\n",
    "img = img.filter(ImageFilter.BLUR)#普通模糊\n",
    "img = img.filter(ImageFilter.EDGE_ENHANCE)#边缘增强\n",
    "img = img.filter(ImageFilter.FIND_EDGES)#找到边缘#\n",
    "img = img.filter(ImageFilter.EMBOSS)#浮雕*\n",
    "img = img.filter(ImageFilter.CONTOUR)#轮廓*\n",
    "img = img.filter(ImageFilter.SHARPEN)#锐化\n",
    "img = img.filter(ImageFilter.SMOOTH)#平滑\n",
    "img = img.filter(ImageFilter.DETAIL)#细节\n",
    "img.show()\n"
   ]
  },
  {
   "cell_type": "code",
   "execution_count": null,
   "id": "6ac2622d-a2ae-4986-ba65-6285df99699c",
   "metadata": {},
   "outputs": [],
   "source": [
    "disarranged_list = [1,5,8,5,3,4,1]\n",
    "for i in range(len(disarranged_list)-1):\n",
    "    for j in range(len(disarranged_list)-1-i):\n",
    "        if disarranged_list[i]> disarranged_list[i+1]:\n",
    "            disarranged_list[i],disarranged_list[i+1] = disarranged_list[i+1],disarranged_list[i]\n",
    "print(disarranged_list)"
   ]
  },
  {
   "cell_type": "code",
   "execution_count": null,
   "id": "a741fb56-25f2-4720-924c-3068260d948e",
   "metadata": {},
   "outputs": [],
   "source": [
    "package 库\n",
    "import os\n",
    "import random\n",
    "import time"
   ]
  },
  {
   "cell_type": "markdown",
   "id": "71b4fbc9-e8ef-4d81-9279-1f75f7f6c51d",
   "metadata": {},
   "source": [
    "### 凯撒加密"
   ]
  },
  {
   "cell_type": "markdown",
   "id": "d0b79a50-2fa5-46d8-9621-942b76f25c39",
   "metadata": {},
   "source": [
    "abcdef...z\n",
    "密钥K=1\n",
    "bcdefg...a\n",
    "\n",
    "\n",
    "def enc(s,k):\n",
    "    return 密文\n",
    "\n",
    "def dec(m,k):\n",
    "    return 明文"
   ]
  },
  {
   "cell_type": "markdown",
   "id": "20bc7522-9cbe-41b2-b806-39926a4f6bbd",
   "metadata": {},
   "source": [
    "### 图像处理"
   ]
  },
  {
   "cell_type": "code",
   "execution_count": 4,
   "id": "108d975e-fd3c-4712-bce8-de7c99ab57df",
   "metadata": {},
   "outputs": [],
   "source": [
    "import PIL"
   ]
  }
 ],
 "metadata": {
  "kernelspec": {
   "display_name": "Python 3 (ipykernel)",
   "language": "python",
   "name": "python3"
  },
  "language_info": {
   "codemirror_mode": {
    "name": "ipython",
    "version": 3
   },
   "file_extension": ".py",
   "mimetype": "text/x-python",
   "name": "python",
   "nbconvert_exporter": "python",
   "pygments_lexer": "ipython3",
   "version": "3.8.8"
  }
 },
 "nbformat": 4,
 "nbformat_minor": 5
}
