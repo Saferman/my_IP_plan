{
 "cells": [
  {
   "cell_type": "code",
   "execution_count": 8,
   "id": "1ea2aa77-2302-4905-91c3-57db17e9b8ec",
   "metadata": {},
   "outputs": [
    {
     "name": "stdout",
     "output_type": "stream",
     "text": [
      "hello\n"
     ]
    }
   ],
   "source": [
    "try:\n",
    "    f = open(\"2233.txt\",\"r\")\n",
    "    s = \"abc\"\n",
    "    s[1] = \"e\"\n",
    "except FileNotFoundError:\n",
    "    f = open(\"t.py\",\"r\")\n",
    "except TypeError:\n",
    "    s.repalce(\"b\",\"e\")\n",
    "print(\"hello\")"
   ]
  },
  {
   "cell_type": "markdown",
   "id": "2f1bf5f4-5255-4a0c-9fe9-166959c4bd0f",
   "metadata": {},
   "source": [
    "### 捕捉不同的错误类型，尝试在下面输入框输入：-1，1，2，q"
   ]
  },
  {
   "cell_type": "code",
   "execution_count": 10,
   "id": "368b8a5c-f1ab-4f0f-beec-654ecedd2611",
   "metadata": {},
   "outputs": [
    {
     "name": "stdin",
     "output_type": "stream",
     "text": [
      "> 2\n"
     ]
    },
    {
     "name": "stdout",
     "output_type": "stream",
     "text": [
      "1/log10(2.0) = 3.321928094887362\n"
     ]
    }
   ],
   "source": [
    "import math\n",
    "\n",
    "text = input('>')\n",
    "x = float(text)\n",
    "y = 1 / math.log10(x)\n",
    "print(\"1/log10({0}) = {1}\".format(x, y))"
   ]
  },
  {
   "cell_type": "code",
   "execution_count": 13,
   "id": "bbd7ca36-b342-4274-a4cc-42c21ce7b118",
   "metadata": {},
   "outputs": [
    {
     "name": "stdout",
     "output_type": "stream",
     "text": [
      "the value must not be 1\n"
     ]
    }
   ],
   "source": [
    "try:\n",
    "    text = '2'\n",
    "    x = float(text)\n",
    "    y = 1 / math.log10(x)\n",
    "    print(\"1/log10({0}) = {1}\".format(x, y))\n",
    "except ValueError:\n",
    "    print(\"value must bigger than 0\")\n",
    "except ZeroDivisionError:\n",
    "    print(\"the value must not be 1\")\n",
    "else:\n",
    "    print(\"all correct\")"
   ]
  },
  {
   "cell_type": "code",
   "execution_count": null,
   "id": "b6ded085-fd72-4999-bd71-6acdfb2522ed",
   "metadata": {},
   "outputs": [],
   "source": []
  }
 ],
 "metadata": {
  "kernelspec": {
   "display_name": "Python 3 (ipykernel)",
   "language": "python",
   "name": "python3"
  },
  "language_info": {
   "codemirror_mode": {
    "name": "ipython",
    "version": 3
   },
   "file_extension": ".py",
   "mimetype": "text/x-python",
   "name": "python",
   "nbconvert_exporter": "python",
   "pygments_lexer": "ipython3",
   "version": "3.8.8"
  }
 },
 "nbformat": 4,
 "nbformat_minor": 5
}
