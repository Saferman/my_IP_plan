{
 "cells": [
  {
   "cell_type": "code",
   "execution_count": 10,
   "id": "4d6d03ba-909c-4b15-a87f-aa9884f66433",
   "metadata": {},
   "outputs": [],
   "source": [
    "x = 3\n",
    "\n",
    "def test():\n",
    "    global x\n",
    "    x = 1\n",
    "    \n",
    "test()"
   ]
  },
  {
   "cell_type": "code",
   "execution_count": 11,
   "id": "d8bef99b-559e-4ed2-b8ca-e6f71c5e204c",
   "metadata": {},
   "outputs": [
    {
     "data": {
      "text/plain": [
       "1"
      ]
     },
     "execution_count": 11,
     "metadata": {},
     "output_type": "execute_result"
    }
   ],
   "source": [
    "1x2x3x...N"
   ]
  },
  {
   "cell_type": "code",
   "execution_count": 17,
   "id": "4c39aab0-58d1-4811-bb8d-5624d3f81289",
   "metadata": {},
   "outputs": [
    {
     "name": "stdout",
     "output_type": "stream",
     "text": [
      "120\n"
     ]
    }
   ],
   "source": [
    "# 生成1x2x3...xn的结果\n",
    "def fac(n):\n",
    "    if n == 1:\n",
    "        return 1\n",
    "    return n * fac(n-1)\n",
    "\n",
    "print(fac(5))"
   ]
  },
  {
   "cell_type": "code",
   "execution_count": 15,
   "id": "9dc02ae5-5a46-4d8b-994b-bb4ef8c8d6df",
   "metadata": {},
   "outputs": [
    {
     "name": "stdout",
     "output_type": "stream",
     "text": [
      "36\n"
     ]
    }
   ],
   "source": [
    "def stat(x,y,*args,**kwargs):\n",
    "    return x + y  + sum([i for i in args]) + kwargs['important'] + kwargs['secret'] + kwargs['sex']\n",
    "\n",
    "print(stat(1,2, 3,4,7,8,important=5,secret=6,sex=10))"
   ]
  }
 ],
 "metadata": {
  "kernelspec": {
   "display_name": "Python 3 (ipykernel)",
   "language": "python",
   "name": "python3"
  },
  "language_info": {
   "codemirror_mode": {
    "name": "ipython",
    "version": 3
   },
   "file_extension": ".py",
   "mimetype": "text/x-python",
   "name": "python",
   "nbconvert_exporter": "python",
   "pygments_lexer": "ipython3",
   "version": "3.8.8"
  }
 },
 "nbformat": 4,
 "nbformat_minor": 5
}
